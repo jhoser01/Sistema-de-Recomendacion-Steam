{
 "cells": [
  {
   "cell_type": "code",
   "execution_count": 3,
   "metadata": {},
   "outputs": [],
   "source": [
    "import pandas as pd"
   ]
  },
  {
   "cell_type": "code",
   "execution_count": 4,
   "metadata": {},
   "outputs": [],
   "source": [
    "game = pd.read_csv(\"G:\\Mi unidad\\BOOTCAMPS\\SOYHENRY\\CIENCIA DE DATOS\\CURSO\\PT07\\PI_MLOPS\\DATA_LIMPIA\\gameclean.csv\")\n",
    "item = pd.read_csv(\"G:\\Mi unidad\\BOOTCAMPS\\SOYHENRY\\CIENCIA DE DATOS\\CURSO\\PT07\\PI_MLOPS\\DATA_LIMPIA\\itemclean.csv\")\n",
    "review = pd.read_csv(\"G:\\Mi unidad\\BOOTCAMPS\\SOYHENRY\\CIENCIA DE DATOS\\CURSO\\PT07\\PI_MLOPS\\DATA_LIMPIA/reviewclean.csv\")"
   ]
  },
  {
   "cell_type": "code",
   "execution_count": 5,
   "metadata": {},
   "outputs": [
    {
     "name": "stdout",
     "output_type": "stream",
     "text": [
      "<class 'pandas.core.frame.DataFrame'>\n",
      "RangeIndex: 30067 entries, 0 to 30066\n",
      "Data columns (total 9 columns):\n",
      " #   Column        Non-Null Count  Dtype  \n",
      "---  ------        --------------  -----  \n",
      " 0   publisher     24046 non-null  object \n",
      " 1   genres        28833 non-null  object \n",
      " 2   app_name      30066 non-null  object \n",
      " 3   tags          29906 non-null  object \n",
      " 4   specs         29398 non-null  object \n",
      " 5   price         28820 non-null  object \n",
      " 6   early_access  30067 non-null  bool   \n",
      " 7   id            30067 non-null  int64  \n",
      " 8   year          29782 non-null  float64\n",
      "dtypes: bool(1), float64(1), int64(1), object(6)\n",
      "memory usage: 1.9+ MB\n",
      "game  None\n"
     ]
    }
   ],
   "source": [
    "print(\"game \",game.info())\n"
   ]
  },
  {
   "cell_type": "code",
   "execution_count": 6,
   "metadata": {},
   "outputs": [
    {
     "name": "stdout",
     "output_type": "stream",
     "text": [
      "<class 'pandas.core.frame.DataFrame'>\n",
      "RangeIndex: 87625 entries, 0 to 87624\n",
      "Data columns (total 4 columns):\n",
      " #   Column            Non-Null Count  Dtype \n",
      "---  ------            --------------  ----- \n",
      " 0   user_id           87625 non-null  object\n",
      " 1   items_count       87625 non-null  int64 \n",
      " 2   item_id           87625 non-null  object\n",
      " 3   playtime_forever  87625 non-null  object\n",
      "dtypes: int64(1), object(3)\n",
      "memory usage: 2.7+ MB\n",
      "item  None\n"
     ]
    }
   ],
   "source": [
    "print(\"item \", item.info())\n"
   ]
  },
  {
   "cell_type": "code",
   "execution_count": 7,
   "metadata": {},
   "outputs": [
    {
     "name": "stdout",
     "output_type": "stream",
     "text": [
      "<class 'pandas.core.frame.DataFrame'>\n",
      "RangeIndex: 25486 entries, 0 to 25485\n",
      "Data columns (total 5 columns):\n",
      " #   Column              Non-Null Count  Dtype \n",
      "---  ------              --------------  ----- \n",
      " 0   user_id             25486 non-null  object\n",
      " 1   item_id             25486 non-null  object\n",
      " 2   recommend           25486 non-null  object\n",
      " 3   year                25486 non-null  object\n",
      " 4   sentiment_analysis  25486 non-null  object\n",
      "dtypes: object(5)\n",
      "memory usage: 995.7+ KB\n",
      "review  None\n"
     ]
    }
   ],
   "source": [
    "print(\"review \", review.info())"
   ]
  }
 ],
 "metadata": {
  "kernelspec": {
   "display_name": "henry",
   "language": "python",
   "name": "python3"
  },
  "language_info": {
   "codemirror_mode": {
    "name": "ipython",
    "version": 3
   },
   "file_extension": ".py",
   "mimetype": "text/x-python",
   "name": "python",
   "nbconvert_exporter": "python",
   "pygments_lexer": "ipython3",
   "version": "3.10.13"
  },
  "orig_nbformat": 4
 },
 "nbformat": 4,
 "nbformat_minor": 2
}
